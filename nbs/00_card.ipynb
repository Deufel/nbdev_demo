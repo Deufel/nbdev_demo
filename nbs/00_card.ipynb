{
 "cells": [
  {
   "cell_type": "code",
   "execution_count": null,
   "metadata": {},
   "outputs": [],
   "source": [
    "#| default_exp card"
   ]
  },
  {
   "cell_type": "markdown",
   "metadata": {},
   "source": [
    "# card\n",
    "\n",
    "> A simple API for creating and using playing cards"
   ]
  },
  {
   "cell_type": "code",
   "execution_count": null,
   "metadata": {},
   "outputs": [],
   "source": [
    "#| hide\n",
    "from nbdev.showdoc import *\n",
    "from fastcore.test import *"
   ]
  },
  {
   "cell_type": "code",
   "execution_count": null,
   "metadata": {},
   "outputs": [],
   "source": [
    "#| export\n",
    "suits = ['♣️','♦️','♥️','♠️']\n",
    "ranks = [None, 'A'] + [str(x) for x in range(2,11)] + ['J', 'Q', 'K']"
   ]
  },
  {
   "cell_type": "code",
   "execution_count": null,
   "metadata": {},
   "outputs": [
    {
     "data": {
      "text/plain": [
       "['♣️', '♦️', '♥️', '♠️']"
      ]
     },
     "execution_count": null,
     "metadata": {},
     "output_type": "execute_result"
    }
   ],
   "source": [
    "suits"
   ]
  },
  {
   "cell_type": "markdown",
   "metadata": {},
   "source": [
    "for example the suit ar index ```0```:"
   ]
  },
  {
   "cell_type": "code",
   "execution_count": null,
   "metadata": {},
   "outputs": [
    {
     "data": {
      "text/plain": [
       "'♣️'"
      ]
     },
     "execution_count": null,
     "metadata": {},
     "output_type": "execute_result"
    }
   ],
   "source": [
    "suits[0]"
   ]
  },
  {
   "cell_type": "code",
   "execution_count": null,
   "metadata": {},
   "outputs": [
    {
     "data": {
      "text/plain": [
       "[None, 'A', '2', '3', '4', '5', '6', '7', '8', '9', '10', 'J', 'Q', 'K']"
      ]
     },
     "execution_count": null,
     "metadata": {},
     "output_type": "execute_result"
    }
   ],
   "source": [
    "ranks"
   ]
  },
  {
   "cell_type": "markdown",
   "metadata": {},
   "source": [
    "for exampel the rank at index ```1``` (note no rank at index 1 so that 2 - 10 match)"
   ]
  },
  {
   "cell_type": "code",
   "execution_count": null,
   "metadata": {},
   "outputs": [
    {
     "data": {
      "text/plain": [
       "'A'"
      ]
     },
     "execution_count": null,
     "metadata": {},
     "output_type": "execute_result"
    }
   ],
   "source": [
    "ranks[1]"
   ]
  },
  {
   "cell_type": "code",
   "execution_count": null,
   "metadata": {},
   "outputs": [],
   "source": [
    "#| export\n",
    "class Card:\n",
    "    \"A playing card\"\n",
    "    def __init__(self, \n",
    "                 suit:int,  # An index into `suits`\n",
    "                 rank:int): # an index into `ranks`\n",
    "            self.suit,self.rank = suit,rank\n",
    "    def __str__(self): return f\"{ranks[self.rank]}{suits[self.suit]}\"\n",
    "    __repr__ = __str__\n",
    "    def __eq__(self, a): return (self.suit, self.rank)==(a.suit,a.rank)\n",
    "    def __lt__(self, a): return (self.suit, self.rank)<(a.suit,a.rank)\n",
    "    def __gt__(self, a): return (self.suit, self.rank)>(a.suit,a.rank) \n",
    "   "
   ]
  },
  {
   "cell_type": "code",
   "execution_count": null,
   "metadata": {},
   "outputs": [
    {
     "data": {
      "text/plain": [
       "3♦️"
      ]
     },
     "execution_count": null,
     "metadata": {},
     "output_type": "execute_result"
    }
   ],
   "source": [
    "c = Card(suit=1, rank=3)\n",
    "c"
   ]
  },
  {
   "cell_type": "markdown",
   "metadata": {},
   "source": [
    "# Comparison opperators\n",
    "\n",
    "equality, less than, and greater than should work on rank and suit indicies"
   ]
  },
  {
   "cell_type": "code",
   "execution_count": null,
   "metadata": {},
   "outputs": [],
   "source": [
    "test_eq(Card(suit=1, rank=3), Card(suit=1, rank=3))\n",
    "test_ne(Card(suit=1, rank=12), Card(suit=3, rank=12))\n",
    "test_ne(Card(suit=1, rank=3), Card(suit=3, rank=3))\n",
    "\n",
    "assert Card(suit=1, rank=3) < Card(suit=2, rank=3)\n",
    "\n",
    "assert Card(suit=3, rank=3) > Card(suit=2, rank=3)\n",
    "assert not Card(suit=1, rank=3) > Card(suit=2, rank=3)"
   ]
  }
 ],
 "metadata": {
  "kernelspec": {
   "display_name": "python3",
   "language": "python",
   "name": "python3"
  }
 },
 "nbformat": 4,
 "nbformat_minor": 4
}
