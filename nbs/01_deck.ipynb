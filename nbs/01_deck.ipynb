{
 "cells": [
  {
   "cell_type": "code",
   "execution_count": null,
   "id": "c6cfada1-b8a9-4459-a4a5-991fa414f337",
   "metadata": {},
   "outputs": [],
   "source": [
    "#| default_exp deck"
   ]
  },
  {
   "cell_type": "markdown",
   "id": "2dd7dff0-5f70-4331-816b-0417719c1130",
   "metadata": {},
   "source": [
    "# Deck\n",
    "> a deck of playing cards"
   ]
  },
  {
   "cell_type": "code",
   "execution_count": null,
   "id": "ffdd2a2f-f1db-48bd-b933-49d874dd9067",
   "metadata": {},
   "outputs": [],
   "source": [
    "#| export\n",
    "from nbdev_demo.card import *"
   ]
  },
  {
   "cell_type": "code",
   "execution_count": null,
   "id": "fa9f3b4e-2d36-44b7-9807-ca28d846e198",
   "metadata": {},
   "outputs": [],
   "source": [
    "#| hide\n",
    "from nbdev.showdoc import *\n",
    "from fastcore.test import *\n",
    "import random"
   ]
  },
  {
   "cell_type": "code",
   "execution_count": null,
   "id": "77defa8e-1ca7-411a-b298-85bf9f8ca764",
   "metadata": {},
   "outputs": [],
   "source": [
    "#| export\n",
    "class Deck:\n",
    "    def __init__(self): self.cards = [Card(s,r) for s in range(4) for r in range(1, 14)]\n",
    "    def __len__(self): return len(self.cards)\n",
    "    def __str__(self): return '; '.join(map(str, self.cards))\n",
    "    def __iter__(self): return iter(self.cards)\n",
    "    __repr__ = __str__\n",
    "    def pop(self,\n",
    "            idx: int=-1): # the index of the card to remove, defaulting to the last one\n",
    "        \"Remove one card from the deck\"\n",
    "        return self.cards.pop(idx)\n",
    "    def remove(self, \n",
    "               card:Card): # Card to remove\n",
    "        \"Removes `card` from the deck or raises exception if it is not in deck\"\n",
    "        return self.cards.remove(card)\n",
    "    def shuffle(self): random.shuffle(self.cards)\n",
    "        "
   ]
  },
  {
   "cell_type": "markdown",
   "id": "61e26a72-d36a-47d7-888b-ae011f101859",
   "metadata": {},
   "source": [
    "When instanciate a Deck there are all cards present:"
   ]
  },
  {
   "cell_type": "code",
   "execution_count": null,
   "id": "d2cd22af-b247-47d1-aed7-0144f6456f94",
   "metadata": {},
   "outputs": [
    {
     "data": {
      "text/plain": [
       "A♣️; 2♣️; 3♣️; 4♣️; 5♣️; 6♣️; 7♣️; 8♣️; 9♣️; 10♣️; J♣️; Q♣️; K♣️; A♦️; 2♦️; 3♦️; 4♦️; 5♦️; 6♦️; 7♦️; 8♦️; 9♦️; 10♦️; J♦️; Q♦️; K♦️; A♥️; 2♥️; 3♥️; 4♥️; 5♥️; 6♥️; 7♥️; 8♥️; 9♥️; 10♥️; J♥️; Q♥️; K♥️; A♠️; 2♠️; 3♠️; 4♠️; 5♠️; 6♠️; 7♠️; 8♠️; 9♠️; 10♠️; J♠️; Q♠️; K♠️"
      ]
     },
     "execution_count": null,
     "metadata": {},
     "output_type": "execute_result"
    }
   ],
   "source": [
    "deck = Deck()\n",
    "deck\n"
   ]
  },
  {
   "cell_type": "markdown",
   "id": "d336be38-e5e0-4a16-b60e-71fa66f81056",
   "metadata": {},
   "source": [
    "Test Create New Deck..."
   ]
  },
  {
   "cell_type": "code",
   "execution_count": null,
   "id": "061c2cc5-05c5-43db-9406-1115e395b559",
   "metadata": {},
   "outputs": [],
   "source": [
    "deck = Deck()\n",
    "test_eq(len(deck), 52)"
   ]
  },
  {
   "cell_type": "markdown",
   "id": "c01b63fc-50a2-4216-a8f9-da501a242085",
   "metadata": {},
   "source": [
    "Test the pop function..."
   ]
  },
  {
   "cell_type": "code",
   "execution_count": null,
   "id": "0615e665-0d24-462c-b94c-a313aa6ed808",
   "metadata": {},
   "outputs": [],
   "source": [
    "deck = Deck()\n",
    "test_eq(deck.pop(), Card(3,13))"
   ]
  },
  {
   "cell_type": "markdown",
   "id": "772f9398-2040-4d98-a733-2a4a9084c02d",
   "metadata": {},
   "source": [
    "test the remove function..."
   ]
  },
  {
   "cell_type": "code",
   "execution_count": null,
   "id": "79a17378-e92b-4bdf-82f7-b1965cd07df1",
   "metadata": {},
   "outputs": [
    {
     "name": "stdout",
     "output_type": "stream",
     "text": [
      "card: 3♥️\n",
      "deck length = 52\n",
      "deck length = 51\n"
     ]
    }
   ],
   "source": [
    "#| export \n",
    "c23 = Card(2,3)\n",
    "deck = Deck()\n",
    "print(f\"card: {c23}\")\n",
    "print(f\"deck length = {len(deck)}\")\n",
    "deck.remove(c23)\n",
    "print(f\"deck length = {len(deck)}\")\n",
    "deck\n",
    "\n",
    "assert c23 not in deck"
   ]
  },
  {
   "cell_type": "code",
   "execution_count": null,
   "id": "2dc6a674-fb4f-468c-a4b2-3f0141f90e58",
   "metadata": {},
   "outputs": [],
   "source": [
    "#| export\n",
    "def draw_n(n:int, # number of cards to draw\n",
    "           replace:bool=True): # whether or not draw with replacement\n",
    "    \"Draw `n` cards, with replacement iif `replace`\"\n",
    "    d = Deck()\n",
    "    d.shuffle()\n",
    "    if replace: return [d.cards[random.choice(range(len(d.cards)))] for _ in range(n)]\n",
    "    else: return d.cards[:n]\n"
   ]
  },
  {
   "cell_type": "markdown",
   "id": "00672c5f-1b5d-409c-ad1c-7bb2c5bd354c",
   "metadata": {},
   "source": [
    "simple test to see if the draw_n draws the correct number of cards"
   ]
  },
  {
   "cell_type": "code",
   "execution_count": null,
   "id": "e93b394d-bec1-4ffd-811c-c9195fc3444d",
   "metadata": {},
   "outputs": [],
   "source": [
    "test_eq(len(draw_n(5)), 5)"
   ]
  }
 ],
 "metadata": {
  "kernelspec": {
   "display_name": "python3",
   "language": "python",
   "name": "python3"
  }
 },
 "nbformat": 4,
 "nbformat_minor": 5
}
